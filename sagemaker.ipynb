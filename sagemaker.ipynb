{
 "cells": [
  {
   "cell_type": "code",
   "execution_count": 2,
   "metadata": {},
   "outputs": [],
   "source": [
    "import sagemaker\n",
    "from sagemaker import get_execution_role\n",
    "from sagemaker.pytorch import PyTorch\n",
    "from modules.constants import AWSConfig, TorchParams"
   ]
  },
  {
   "cell_type": "code",
   "execution_count": 3,
   "metadata": {},
   "outputs": [
    {
     "name": "stderr",
     "output_type": "stream",
     "text": [
      "Couldn't call 'get_role' to get Role ARN from role name AmazonSageMaker-ExecutionRole-20220803T052033 to get Role path.\n",
      "Assuming role was created in SageMaker AWS console, as the name contains `AmazonSageMaker-ExecutionRole`. Defaulting to Role ARN with service-role in path. If this Role ARN is incorrect, please add IAM read permissions to your role or supply the Role Arn directly.\n"
     ]
    }
   ],
   "source": [
    "sagemaker_session = sagemaker.Session()\n",
    "role = get_execution_role()\n",
    "region = sagemaker_session.boto_session.region_name\n",
    "training_data_uri = \"s3://{}/\".format(AWSConfig.bucket)\n",
    "metric_definitions = [\n",
    "        {\"Name\": \"loss\", \"Regex\": \"loss: ([0-9\\\\.]+)\"},\n",
    "        {\"Name\": \"accuracy\", \"Regex\": \"accuracy: ([0-9\\\\.]+)\"},\n",
    "        {\"Name\": \"val_loss\", \"Regex\": \"val_loss: ([0-9\\\\.]+)\"},\n",
    "        {\"Name\": \"val_accuracy\", \"Regex\": \"val_accuracy: ([0-9\\\\.]+)\"},\n",
    "    ]"
   ]
  },
  {
   "cell_type": "code",
   "execution_count": 9,
   "metadata": {},
   "outputs": [],
   "source": [
    "estimator = PyTorch(entry_point='speach_emotion_recognition_vit.py',\n",
    "                            hyperparameters=TorchParams.hyper_param,\n",
    "                            role=role,\n",
    "                            source_dir=\".\",\n",
    "                            framework_version='1.6',\n",
    "                            py_version='py3',\n",
    "                            instance_count=2,\n",
    "                            instance_type='ml.c5.xlarge')"
   ]
  },
  {
   "cell_type": "code",
   "execution_count": null,
   "metadata": {},
   "outputs": [
    {
     "name": "stdout",
     "output_type": "stream",
     "text": [
      "2022-08-03 20:59:58 Starting - Starting the training job...\n",
      "2022-08-03 21:00:22 Starting - Preparing the instances for trainingProfilerReport-1659560398: InProgress\n",
      ".........\n",
      "2022-08-03 21:01:42 Downloading - Downloading input data...\n",
      "2022-08-03 21:02:22 Training - Downloading the training image..\u001b[34mbash: cannot set terminal process group (-1): Inappropriate ioctl for device\u001b[0m\n",
      "\u001b[34mbash: no job control in this shell\u001b[0m\n",
      "\u001b[34m2022-08-03 21:02:39,704 sagemaker-training-toolkit INFO     Imported framework sagemaker_pytorch_container.training\u001b[0m\n",
      "\u001b[34m2022-08-03 21:02:39,707 sagemaker-training-toolkit INFO     No GPUs detected (normal if no gpus installed)\u001b[0m\n",
      "\u001b[34m2022-08-03 21:02:39,716 sagemaker_pytorch_container.training INFO     Block until all host DNS lookups succeed.\u001b[0m\n",
      "\u001b[34m2022-08-03 21:02:39,720 sagemaker_pytorch_container.training INFO     Invoking user training script.\u001b[0m\n",
      "\u001b[34m2022-08-03 21:02:40,029 sagemaker-training-toolkit INFO     Installing dependencies from requirements.txt:\u001b[0m\n",
      "\u001b[34m/opt/conda/bin/python3.6 -m pip install -r requirements.txt\u001b[0m\n",
      "\u001b[34mCollecting timm===0.6.7\n",
      "  Downloading timm-0.6.7-py3-none-any.whl (509 kB)\u001b[0m\n",
      "\u001b[34mCollecting seaborn===0.11.2\n",
      "  Downloading seaborn-0.11.2-py3-none-any.whl (292 kB)\u001b[0m\n",
      "\u001b[34mCollecting tqdm===4.64.0\n",
      "  Downloading tqdm-4.64.0-py2.py3-none-any.whl (78 kB)\u001b[0m\n",
      "\u001b[34mRequirement already satisfied: torch==1.6.0 in /opt/conda/lib/python3.6/site-packages (from -r requirements.txt (line 4)) (1.6.0)\u001b[0m\n",
      "\u001b[34mCollecting torchvision===0.6.0\n",
      "  Downloading torchvision-0.6.0-cp36-cp36m-manylinux1_x86_64.whl (6.6 MB)\u001b[0m\n",
      "\u001b[34mRequirement already satisfied: pandas>=0.23 in /opt/conda/lib/python3.6/site-packages (from seaborn===0.11.2->-r requirements.txt (line 2)) (1.1.5)\u001b[0m\n",
      "\u001b[34mRequirement already satisfied: numpy>=1.15 in /opt/conda/lib/python3.6/site-packages (from seaborn===0.11.2->-r requirements.txt (line 2)) (1.19.1)\u001b[0m\n",
      "\u001b[34mRequirement already satisfied: scipy>=1.0 in /opt/conda/lib/python3.6/site-packages (from seaborn===0.11.2->-r requirements.txt (line 2)) (1.2.2)\u001b[0m\n",
      "\u001b[34mRequirement already satisfied: matplotlib>=2.2 in /opt/conda/lib/python3.6/site-packages (from seaborn===0.11.2->-r requirements.txt (line 2)) (3.3.4)\u001b[0m\n",
      "\u001b[34mCollecting importlib-resources\n",
      "  Downloading importlib_resources-5.4.0-py3-none-any.whl (28 kB)\u001b[0m\n",
      "\u001b[34mRequirement already satisfied: future in /opt/conda/lib/python3.6/site-packages (from torch==1.6.0->-r requirements.txt (line 4)) (0.18.2)\u001b[0m\n",
      "\u001b[34mRequirement already satisfied: pillow>=4.1.1 in /opt/conda/lib/python3.6/site-packages (from torchvision===0.6.0->-r requirements.txt (line 5)) (8.2.0)\u001b[0m\n",
      "\u001b[34mINFO: pip is looking at multiple versions of torch to determine which version is compatible with other requirements. This could take a while.\u001b[0m\n",
      "\u001b[35mbash: cannot set terminal process group (-1): Inappropriate ioctl for device\u001b[0m\n",
      "\u001b[35mbash: no job control in this shell\u001b[0m\n",
      "\u001b[35m2022-08-03 21:02:39,920 sagemaker-training-toolkit INFO     Imported framework sagemaker_pytorch_container.training\u001b[0m\n",
      "\u001b[35m2022-08-03 21:02:39,922 sagemaker-training-toolkit INFO     No GPUs detected (normal if no gpus installed)\u001b[0m\n",
      "\u001b[35m2022-08-03 21:02:39,931 sagemaker_pytorch_container.training INFO     Block until all host DNS lookups succeed.\u001b[0m\n",
      "\u001b[35m2022-08-03 21:02:39,937 sagemaker_pytorch_container.training INFO     Invoking user training script.\u001b[0m\n",
      "\u001b[35m2022-08-03 21:02:40,299 sagemaker-training-toolkit INFO     Installing dependencies from requirements.txt:\u001b[0m\n",
      "\u001b[35m/opt/conda/bin/python3.6 -m pip install -r requirements.txt\u001b[0m\n",
      "\u001b[35mCollecting timm===0.6.7\n",
      "  Downloading timm-0.6.7-py3-none-any.whl (509 kB)\u001b[0m\n",
      "\u001b[35mCollecting seaborn===0.11.2\n",
      "  Downloading seaborn-0.11.2-py3-none-any.whl (292 kB)\u001b[0m\n",
      "\u001b[35mCollecting tqdm===4.64.0\n",
      "  Downloading tqdm-4.64.0-py2.py3-none-any.whl (78 kB)\u001b[0m\n",
      "\u001b[35mRequirement already satisfied: torch==1.6.0 in /opt/conda/lib/python3.6/site-packages (from -r requirements.txt (line 4)) (1.6.0)\u001b[0m\n",
      "\u001b[35mCollecting torchvision===0.6.0\n",
      "  Downloading torchvision-0.6.0-cp36-cp36m-manylinux1_x86_64.whl (6.6 MB)\u001b[0m\n",
      "\u001b[35mRequirement already satisfied: numpy>=1.15 in /opt/conda/lib/python3.6/site-packages (from seaborn===0.11.2->-r requirements.txt (line 2)) (1.19.1)\u001b[0m\n",
      "\u001b[35mRequirement already satisfied: scipy>=1.0 in /opt/conda/lib/python3.6/site-packages (from seaborn===0.11.2->-r requirements.txt (line 2)) (1.2.2)\u001b[0m\n",
      "\u001b[35mRequirement already satisfied: matplotlib>=2.2 in /opt/conda/lib/python3.6/site-packages (from seaborn===0.11.2->-r requirements.txt (line 2)) (3.3.4)\u001b[0m\n",
      "\u001b[35mRequirement already satisfied: pandas>=0.23 in /opt/conda/lib/python3.6/site-packages (from seaborn===0.11.2->-r requirements.txt (line 2)) (1.1.5)\u001b[0m\n",
      "\u001b[35mCollecting importlib-resources\n",
      "  Downloading importlib_resources-5.4.0-py3-none-any.whl (28 kB)\u001b[0m\n",
      "\u001b[35mRequirement already satisfied: future in /opt/conda/lib/python3.6/site-packages (from torch==1.6.0->-r requirements.txt (line 4)) (0.18.2)\u001b[0m\n",
      "\u001b[35mRequirement already satisfied: pillow>=4.1.1 in /opt/conda/lib/python3.6/site-packages (from torchvision===0.6.0->-r requirements.txt (line 5)) (8.2.0)\u001b[0m\n",
      "\u001b[35mINFO: pip is looking at multiple versions of torch to determine which version is compatible with other requirements. This could take a while.\u001b[0m\n",
      "\n",
      "2022-08-03 21:02:43 Training - Training image download completed. Training in progress."
     ]
    }
   ],
   "source": [
    "estimator.fit(training_data_uri, logs=True)"
   ]
  },
  {
   "cell_type": "code",
   "execution_count": null,
   "metadata": {},
   "outputs": [],
   "source": [
    "predictor = estimator.deploy(initial_instance_count=1, instance_type='ml.m4.xlarge')"
   ]
  },
  {
   "cell_type": "code",
   "execution_count": null,
   "metadata": {},
   "outputs": [],
   "source": [
    "import numpy as np\n",
    "correct = 0\n",
    "total = 0\n",
    "\n",
    "with torch.no_grad():\n",
    "    for data in test_loader:\n",
    "        images, labels = data\n",
    "        outputs = predictor.predict(images.numpy())\n",
    "        _, predicted = torch.max(torch.from_numpy(np.array(outputs)), 1)\n",
    "        total += labels.size(0)\n",
    "        correct += (predicted == labels).sum().item()\n",
    "\n",
    "print('Accuracy of the network on the 10000 test images: %d %%' % (\n",
    "    100 * correct / total))"
   ]
  },
  {
   "cell_type": "code",
   "execution_count": null,
   "metadata": {},
   "outputs": [],
   "source": [
    "estimator.delete_endpoint()"
   ]
  }
 ],
 "metadata": {
  "instance_type": "ml.g4dn.xlarge",
  "kernelspec": {
   "display_name": "Python 3 (PyTorch 1.4 Python 3.6 GPU Optimized)",
   "language": "python",
   "name": "python3__SAGEMAKER_INTERNAL__arn:aws:sagemaker:ap-northeast-1:102112518831:image/pytorch-1.4-gpu-py36"
  },
  "language_info": {
   "codemirror_mode": {
    "name": "ipython",
    "version": 3
   },
   "file_extension": ".py",
   "mimetype": "text/x-python",
   "name": "python",
   "nbconvert_exporter": "python",
   "pygments_lexer": "ipython3",
   "version": "3.6.13"
  }
 },
 "nbformat": 4,
 "nbformat_minor": 4
}
